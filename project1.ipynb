{
  "nbformat": 4,
  "nbformat_minor": 0,
  "metadata": {
    "colab": {
      "private_outputs": true,
      "provenance": []
    },
    "kernelspec": {
      "name": "python3",
      "display_name": "Python 3"
    },
    "language_info": {
      "name": "python"
    }
  },
  "cells": [
    {
      "cell_type": "code",
      "execution_count": null,
      "metadata": {
        "id": "ZlUy1J0X8GMy"
      },
      "outputs": [],
      "source": [
        "import pandas as pd"
      ]
    },
    {
      "cell_type": "code",
      "source": [
        "df= pd.read_csv('/content/medical appointment.csv')\n",
        "print(df)"
      ],
      "metadata": {
        "id": "K4LMi_Nc8iGG",
        "collapsed": true
      },
      "execution_count": null,
      "outputs": []
    },
    {
      "cell_type": "code",
      "source": [
        "df.dtypes"
      ],
      "metadata": {
        "collapsed": true,
        "id": "xyohf2MU82rM"
      },
      "execution_count": null,
      "outputs": []
    },
    {
      "cell_type": "code",
      "source": [
        "df.info()"
      ],
      "metadata": {
        "id": "Fnz-vuAZ89eR",
        "collapsed": true
      },
      "execution_count": null,
      "outputs": []
    },
    {
      "cell_type": "code",
      "source": [
        "df['AppointmentDay'] = pd.to_datetime(df['AppointmentDay'])\n",
        "df['ScheduledDay'] = pd.to_datetime(df['ScheduledDay'])"
      ],
      "metadata": {
        "id": "xWD-R_Nq9bmH"
      },
      "execution_count": null,
      "outputs": []
    },
    {
      "cell_type": "code",
      "source": [
        "df['AppointmentDate'] = df['AppointmentDay'].dt.date\n",
        "df['ScheduledDate'] = df['ScheduledDay'].dt.date"
      ],
      "metadata": {
        "id": "P_7b-ZuQAZdD"
      },
      "execution_count": null,
      "outputs": []
    },
    {
      "cell_type": "code",
      "source": [
        "df.info()"
      ],
      "metadata": {
        "id": "Hjw8ERd6-bdN",
        "collapsed": true
      },
      "execution_count": null,
      "outputs": []
    },
    {
      "cell_type": "code",
      "source": [
        "print(df)"
      ],
      "metadata": {
        "collapsed": true,
        "id": "M-COATxL-6ot"
      },
      "execution_count": null,
      "outputs": []
    },
    {
      "cell_type": "code",
      "source": [
        "del df['ScheduledDay']\n",
        "del df['AppointmentDay']"
      ],
      "metadata": {
        "id": "7UtQaZXFB-pR"
      },
      "execution_count": null,
      "outputs": []
    },
    {
      "cell_type": "code",
      "source": [
        "df.rename(columns={'Handcap': 'Handicap', 'Hipertension ': 'Hypertension ', 'No-show': 'No_show'}, inplace=True)"
      ],
      "metadata": {
        "id": "ysMbeRQFacxT"
      },
      "execution_count": null,
      "outputs": []
    },
    {
      "cell_type": "code",
      "source": [
        "df['No_show'] = df['No_show'].map({'Yes': 1, 'No': 0})"
      ],
      "metadata": {
        "id": "n8Dso4-z9VCP"
      },
      "execution_count": null,
      "outputs": []
    },
    {
      "cell_type": "code",
      "source": [
        "print(df)"
      ],
      "metadata": {
        "collapsed": true,
        "id": "kE09O9hFCEw4"
      },
      "execution_count": null,
      "outputs": []
    },
    {
      "cell_type": "code",
      "source": [
        "df.info()"
      ],
      "metadata": {
        "id": "epLgVQaX-JUM"
      },
      "execution_count": null,
      "outputs": []
    },
    {
      "cell_type": "code",
      "source": [
        "df['No_show'].value_counts()"
      ],
      "metadata": {
        "collapsed": true,
        "id": "7EbqrYx3Dv6j"
      },
      "execution_count": null,
      "outputs": []
    },
    {
      "cell_type": "code",
      "source": [
        "df['Gender'].value_counts()"
      ],
      "metadata": {
        "collapsed": true,
        "id": "vrTbhd6iFlqH"
      },
      "execution_count": null,
      "outputs": []
    },
    {
      "cell_type": "code",
      "source": [],
      "metadata": {
        "id": "GnGr-O_6oLBz"
      },
      "execution_count": null,
      "outputs": []
    },
    {
      "cell_type": "code",
      "source": [
        "for column in df.columns:\n",
        "    unique_values = df[column].unique()\n",
        "    print(f\"Unique values in column '{column}':\")\n",
        "    print(unique_values)\n",
        "    print(\"\\n\")"
      ],
      "metadata": {
        "collapsed": true,
        "id": "x4bc1yb8oj28"
      },
      "execution_count": null,
      "outputs": []
    },
    {
      "cell_type": "code",
      "source": [
        "df['Handicap'].value_counts()"
      ],
      "metadata": {
        "collapsed": true,
        "id": "t0BtHvtmv91E"
      },
      "execution_count": null,
      "outputs": []
    },
    {
      "cell_type": "code",
      "source": [
        "df=df[~df['Handicap'].isin([2,3,4])]"
      ],
      "metadata": {
        "collapsed": true,
        "id": "6Hgoalca06xL"
      },
      "execution_count": null,
      "outputs": []
    },
    {
      "cell_type": "code",
      "source": [
        "df['Handicap'].value_counts()"
      ],
      "metadata": {
        "collapsed": true,
        "id": "XwehfNWb0tev"
      },
      "execution_count": null,
      "outputs": []
    },
    {
      "cell_type": "code",
      "source": [
        "df.drop(df[(df['Age'] <= 1) | (df['Age'] > 100)].index, inplace=True)"
      ],
      "metadata": {
        "collapsed": true,
        "id": "s9Vxl-2W3FMb"
      },
      "execution_count": null,
      "outputs": []
    },
    {
      "cell_type": "code",
      "source": [
        "df['AppointmentDate'] = pd.to_datetime(df['AppointmentDate'])"
      ],
      "metadata": {
        "collapsed": true,
        "id": "wj8qOXeqfcvI"
      },
      "execution_count": null,
      "outputs": []
    },
    {
      "cell_type": "code",
      "source": [
        "df['ScheduledDate'] = pd.to_datetime(df['ScheduledDate'])"
      ],
      "metadata": {
        "collapsed": true,
        "id": "_jedv2pLfknj"
      },
      "execution_count": null,
      "outputs": []
    },
    {
      "cell_type": "code",
      "source": [
        "df['AppointmentWeek'] = df['AppointmentDate'].dt.day_name()"
      ],
      "metadata": {
        "collapsed": true,
        "id": "Lvt5YpcpZwdz"
      },
      "execution_count": null,
      "outputs": []
    },
    {
      "cell_type": "code",
      "source": [
        "df['AppointmentMonth'] = df['AppointmentDate'].dt.day"
      ],
      "metadata": {
        "collapsed": true,
        "id": "qyWmjr6Jf4eK"
      },
      "execution_count": null,
      "outputs": []
    },
    {
      "cell_type": "code",
      "source": [
        "df['waiting_days'] = (df.AppointmentDate - df.ScheduledDate) / pd.Timedelta(days=1)\n",
        "df['waiting_days'] =df['waiting_days'].astype(int)"
      ],
      "metadata": {
        "id": "mNWP8nxxf_Ve"
      },
      "execution_count": null,
      "outputs": []
    },
    {
      "cell_type": "code",
      "source": [
        "df.info()"
      ],
      "metadata": {
        "collapsed": true,
        "id": "s4o80q91hjt7"
      },
      "execution_count": null,
      "outputs": []
    },
    {
      "cell_type": "code",
      "source": [
        "import seaborn as sns\n",
        "import matplotlib.pyplot as plt\n",
        "\n",
        "sns.boxplot(x=df['waiting_days'])\n",
        "plt.show()"
      ],
      "metadata": {
        "id": "zkLIfSxul5V4"
      },
      "execution_count": null,
      "outputs": []
    },
    {
      "cell_type": "code",
      "source": [
        "sns.stripplot(data=df, y='waiting_days')\n",
        "plt.show()"
      ],
      "metadata": {
        "id": "UqWGA4STnwX9"
      },
      "execution_count": null,
      "outputs": []
    },
    {
      "cell_type": "code",
      "source": [
        "outliers = df[(df['waiting_days'] > 150)]"
      ],
      "metadata": {
        "id": "UZkrbOA5pfuZ"
      },
      "execution_count": null,
      "outputs": []
    },
    {
      "cell_type": "code",
      "source": [
        "df.drop(outliers.index, inplace=True)"
      ],
      "metadata": {
        "id": "zLJpD0FRyVdr"
      },
      "execution_count": null,
      "outputs": []
    },
    {
      "cell_type": "code",
      "source": [
        "df.info()"
      ],
      "metadata": {
        "collapsed": true,
        "id": "askb1_Wz1FJi"
      },
      "execution_count": null,
      "outputs": []
    },
    {
      "cell_type": "code",
      "source": [
        "duplicate_rows = df[df.duplicated(subset=['PatientId'])]\n",
        "len(duplicate_rows)"
      ],
      "metadata": {
        "collapsed": true,
        "id": "6NWkBJPryZGF"
      },
      "execution_count": null,
      "outputs": []
    },
    {
      "cell_type": "code",
      "source": [
        "df.drop(duplicate_rows.index, inplace=True)"
      ],
      "metadata": {
        "id": "CBC-3NLCz57f"
      },
      "execution_count": null,
      "outputs": []
    },
    {
      "cell_type": "code",
      "source": [
        "df.info()"
      ],
      "metadata": {
        "id": "Z8L9bVQv0aSj"
      },
      "execution_count": null,
      "outputs": []
    },
    {
      "cell_type": "code",
      "source": [
        "df.to_csv('cleaned_dataset.csv', index=False)"
      ],
      "metadata": {
        "id": "An0MWIFd08BQ"
      },
      "execution_count": null,
      "outputs": []
    },
    {
      "cell_type": "code",
      "source": [
        "df_new= pd.read_csv('/content/cleaned_dataset.csv')\n",
        "print(df_new)"
      ],
      "metadata": {
        "collapsed": true,
        "id": "ENyqrf5q7rtB"
      },
      "execution_count": null,
      "outputs": []
    },
    {
      "cell_type": "code",
      "source": [
        "from sklearn.preprocessing import LabelEncoder"
      ],
      "metadata": {
        "id": "Dtdmhdt2CgOC"
      },
      "execution_count": null,
      "outputs": []
    },
    {
      "cell_type": "code",
      "source": [
        "le = LabelEncoder()\n",
        "df_new['Gender'] = le.fit_transform(df_new['Gender'])"
      ],
      "metadata": {
        "id": "yGzpNXUxCjr0"
      },
      "execution_count": null,
      "outputs": []
    },
    {
      "cell_type": "code",
      "source": [
        "df_new['AppointmentWeek_number'] = le.fit_transform(df['AppointmentWeek'])"
      ],
      "metadata": {
        "id": "PYXISai8F5Cb"
      },
      "execution_count": null,
      "outputs": []
    },
    {
      "cell_type": "code",
      "source": [
        "print(df_new['Gender'])"
      ],
      "metadata": {
        "collapsed": true,
        "id": "3B5xbYbWHIZl"
      },
      "execution_count": null,
      "outputs": []
    },
    {
      "cell_type": "code",
      "source": [
        "print(df_new['AppointmentWeek_number'])"
      ],
      "metadata": {
        "collapsed": true,
        "id": "EE0oAHo9GKoP"
      },
      "execution_count": null,
      "outputs": []
    },
    {
      "cell_type": "code",
      "source": [
        "from sklearn.model_selection import train_test_split\n",
        "\n",
        "X = df_new[['Age', 'Gender', 'AppointmentWeek_number', 'waiting_days', 'Hipertension', 'Diabetes', 'Alcoholism', 'Handicap', 'SMS_received']]\n",
        "y = df_new['No_show']\n",
        "\n",
        "X_train, X_test, y_train, y_test = train_test_split(X, y, test_size=0.2, random_state=42)"
      ],
      "metadata": {
        "id": "WKOQmPqJ4Zu1"
      },
      "execution_count": null,
      "outputs": []
    },
    {
      "cell_type": "code",
      "source": [
        "X_train.shape"
      ],
      "metadata": {
        "id": "6CTNwPMdMd75"
      },
      "execution_count": null,
      "outputs": []
    },
    {
      "cell_type": "code",
      "source": [
        "X_test.shape"
      ],
      "metadata": {
        "id": "Yjn_HZL7MpeR"
      },
      "execution_count": null,
      "outputs": []
    },
    {
      "cell_type": "code",
      "source": [
        "y_train.shape"
      ],
      "metadata": {
        "id": "JeKUrDG6MuRj"
      },
      "execution_count": null,
      "outputs": []
    },
    {
      "cell_type": "code",
      "source": [
        "y_test.shape"
      ],
      "metadata": {
        "id": "ETp_Uza4My9Q"
      },
      "execution_count": null,
      "outputs": []
    },
    {
      "cell_type": "code",
      "source": [
        "from sklearn.tree import DecisionTreeClassifier"
      ],
      "metadata": {
        "id": "iCRkOCjIBQfX"
      },
      "execution_count": null,
      "outputs": []
    },
    {
      "cell_type": "code",
      "source": [],
      "metadata": {
        "id": "vBV-9wdbB0cW"
      },
      "execution_count": null,
      "outputs": []
    },
    {
      "cell_type": "code",
      "source": [
        "#!pip install -q category_encoders"
      ],
      "metadata": {
        "id": "ZsKRYsFkDQmF"
      },
      "execution_count": null,
      "outputs": []
    },
    {
      "cell_type": "code",
      "source": [
        "#from category_encoders import OneHotEncoder"
      ],
      "metadata": {
        "id": "ymIb4-p0DSsp"
      },
      "execution_count": null,
      "outputs": []
    },
    {
      "cell_type": "code",
      "source": [
        "#encoder = OneHotEncoder(cols=['AppointmentWeek'], handle_unknown='ignore')"
      ],
      "metadata": {
        "id": "5d0t1in9Ddlf"
      },
      "execution_count": null,
      "outputs": []
    },
    {
      "cell_type": "code",
      "source": [
        "#X_train = encoder.fit_transform(X_train)"
      ],
      "metadata": {
        "id": "CE3Qp_IaDgrc"
      },
      "execution_count": null,
      "outputs": []
    },
    {
      "cell_type": "code",
      "source": [
        "#X_test = encoder.transform(X_test)"
      ],
      "metadata": {
        "id": "PnMoOhtRDjrL"
      },
      "execution_count": null,
      "outputs": []
    },
    {
      "cell_type": "code",
      "source": [
        "tree_model = DecisionTreeClassifier(random_state=42)"
      ],
      "metadata": {
        "id": "OaMXsxBqDpeS"
      },
      "execution_count": null,
      "outputs": []
    },
    {
      "cell_type": "code",
      "source": [
        "tree_model.fit(X_train, y_train)"
      ],
      "metadata": {
        "id": "ntOSruqpB2VT"
      },
      "execution_count": null,
      "outputs": []
    },
    {
      "cell_type": "code",
      "source": [
        "y_pred = tree_model.predict(X_test)"
      ],
      "metadata": {
        "id": "2qLb9Z87Hynj"
      },
      "execution_count": null,
      "outputs": []
    },
    {
      "cell_type": "code",
      "source": [
        "from sklearn.metrics import accuracy_score, classification_report\n",
        "\n",
        "\n",
        "accuracy = accuracy_score(y_test, y_pred)\n",
        "print(f\"Accuracy: {accuracy}\")\n",
        "\n",
        "#classification report (includes precision, recall, F1-score)\n",
        "print(classification_report(y_test, y_pred))"
      ],
      "metadata": {
        "id": "NPg7iTIoH_TA"
      },
      "execution_count": null,
      "outputs": []
    },
    {
      "cell_type": "code",
      "source": [
        "new_data = [[40, 0, 5, 20, 1, 1,1 , 1, 1]]"
      ],
      "metadata": {
        "id": "CK5eedTHJx4F"
      },
      "execution_count": null,
      "outputs": []
    },
    {
      "cell_type": "code",
      "source": [
        "prediction = tree_model.predict(new_data)\n",
        "print(prediction)"
      ],
      "metadata": {
        "id": "yximIzOJJ3qp"
      },
      "execution_count": null,
      "outputs": []
    },
    {
      "cell_type": "code",
      "source": [
        "from sklearn.tree import plot_tree"
      ],
      "metadata": {
        "id": "y15OzLAYIiI8"
      },
      "execution_count": null,
      "outputs": []
    },
    {
      "cell_type": "code",
      "source": [
        "plt.figure(figsize=(12, 8))  # Set the figure size (adjust as needed)\n",
        "plot_tree(tree_model, feature_names=X.columns, class_names=['No_show', 'show'], filled=True, rounded=True)\n",
        "plt.show()"
      ],
      "metadata": {
        "id": "rOIKkrAjIlUA"
      },
      "execution_count": null,
      "outputs": []
    },
    {
      "cell_type": "code",
      "source": [
        "plt.savefig('decision_tree.png')"
      ],
      "metadata": {
        "id": "-nO_EGmrPGm6"
      },
      "execution_count": null,
      "outputs": []
    }
  ]
}